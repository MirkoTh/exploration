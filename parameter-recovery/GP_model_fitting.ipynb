{
 "cells": [
  {
   "cell_type": "markdown",
   "metadata": {
    "toc": true
   },
   "source": [
    "<h1>Table of Contents<span class=\"tocSkip\"></span></h1>\n",
    "<div class=\"toc\"><ul class=\"toc-item\"><li><span><a href=\"#Guassian-process-decision-model-fitting\" data-toc-modified-id=\"Guassian-process-decision-model-fitting-1\"><span class=\"toc-item-num\">1&nbsp;&nbsp;</span>Guassian process decision model fitting</a></span><ul class=\"toc-item\"><li><span><a href=\"#Load-data\" data-toc-modified-id=\"Load-data-1.1\"><span class=\"toc-item-num\">1.1&nbsp;&nbsp;</span>Load data</a></span></li><li><span><a href=\"#Load-grid-data\" data-toc-modified-id=\"Load-grid-data-1.2\"><span class=\"toc-item-num\">1.2&nbsp;&nbsp;</span>Load grid data</a></span></li><li><span><a href=\"#Simulate-data\" data-toc-modified-id=\"Simulate-data-1.3\"><span class=\"toc-item-num\">1.3&nbsp;&nbsp;</span>Simulate data</a></span></li><li><span><a href=\"#Sampling\" data-toc-modified-id=\"Sampling-1.4\"><span class=\"toc-item-num\">1.4&nbsp;&nbsp;</span>Sampling</a></span></li></ul></li></ul></div>"
   ]
  },
  {
   "cell_type": "markdown",
   "metadata": {
    "id": "vAx8jsz7jtPC"
   },
   "source": [
    "# Guassian process decision model fitting\n",
    "\n",
    "This notebook provides an example of how to use the Gaussian process model fitting code.\n",
    "\n",
    "A GPU is necessary for this to work, so make sure to use a Colab runtime with a GPU.\n",
    "\n",
    "***Note: The script files from GitHub need to be uploaded to Colab before running.***"
   ]
  },
  {
   "cell_type": "markdown",
   "metadata": {
    "id": "b9Yj5MJMjw7a"
   },
   "source": [
    "Check that we have a GPU"
   ]
  },
  {
   "cell_type": "code",
   "execution_count": null,
   "metadata": {
    "colab": {
     "base_uri": "https://localhost:8080/"
    },
    "id": "mxuk9qqkhTH1",
    "outputId": "62e8fe49-4911-474f-9a42-fe4032a05975"
   },
   "outputs": [
    {
     "name": "stdout",
     "output_type": "stream",
     "text": [
      "Tue Nov 23 16:00:38 2021       \n",
      "+-----------------------------------------------------------------------------+\n",
      "| NVIDIA-SMI 495.44       Driver Version: 460.32.03    CUDA Version: 11.2     |\n",
      "|-------------------------------+----------------------+----------------------+\n",
      "| GPU  Name        Persistence-M| Bus-Id        Disp.A | Volatile Uncorr. ECC |\n",
      "| Fan  Temp  Perf  Pwr:Usage/Cap|         Memory-Usage | GPU-Util  Compute M. |\n",
      "|                               |                      |               MIG M. |\n",
      "|===============================+======================+======================|\n",
      "|   0  Tesla K80           Off  | 00000000:00:04.0 Off |                    0 |\n",
      "| N/A   50C    P0    57W / 149W |  10355MiB / 11441MiB |      0%      Default |\n",
      "|                               |                      |                  N/A |\n",
      "+-------------------------------+----------------------+----------------------+\n",
      "                                                                               \n",
      "+-----------------------------------------------------------------------------+\n",
      "| Processes:                                                                  |\n",
      "|  GPU   GI   CI        PID   Type   Process name                  GPU Memory |\n",
      "|        ID   ID                                                   Usage      |\n",
      "|=============================================================================|\n",
      "|  No running processes found                                                 |\n",
      "+-----------------------------------------------------------------------------+\n"
     ]
    }
   ],
   "source": [
    "!nvidia-smi"
   ]
  },
  {
   "cell_type": "markdown",
   "metadata": {
    "id": "AiPoLHfEj0r5"
   },
   "source": [
    "Install necessary dependencies (everything is pre-installed except NumPyro)"
   ]
  },
  {
   "cell_type": "code",
   "execution_count": null,
   "metadata": {
    "colab": {
     "base_uri": "https://localhost:8080/"
    },
    "id": "4MqBpVPahnRg",
    "outputId": "b8c83146-2409-4038-ac4d-ae45cb3d636f"
   },
   "outputs": [
    {
     "name": "stdout",
     "output_type": "stream",
     "text": [
      "Requirement already satisfied: numpyro in /usr/local/lib/python3.7/dist-packages (0.8.0)\n",
      "Requirement already satisfied: tqdm in /usr/local/lib/python3.7/dist-packages (from numpyro) (4.62.3)\n",
      "Requirement already satisfied: jaxlib>=0.1.65 in /usr/local/lib/python3.7/dist-packages (from numpyro) (0.1.74+cuda11.cudnn805)\n",
      "Requirement already satisfied: jax>=0.2.13 in /usr/local/lib/python3.7/dist-packages (from numpyro) (0.2.25)\n",
      "Requirement already satisfied: scipy>=1.2.1 in /usr/local/lib/python3.7/dist-packages (from jax>=0.2.13->numpyro) (1.4.1)\n",
      "Requirement already satisfied: typing-extensions in /usr/local/lib/python3.7/dist-packages (from jax>=0.2.13->numpyro) (3.10.0.2)\n",
      "Requirement already satisfied: absl-py in /usr/local/lib/python3.7/dist-packages (from jax>=0.2.13->numpyro) (0.12.0)\n",
      "Requirement already satisfied: numpy>=1.18 in /usr/local/lib/python3.7/dist-packages (from jax>=0.2.13->numpyro) (1.19.5)\n",
      "Requirement already satisfied: opt-einsum in /usr/local/lib/python3.7/dist-packages (from jax>=0.2.13->numpyro) (3.3.0)\n",
      "Requirement already satisfied: flatbuffers<3.0,>=1.12 in /usr/local/lib/python3.7/dist-packages (from jaxlib>=0.1.65->numpyro) (2.0)\n",
      "Requirement already satisfied: six in /usr/local/lib/python3.7/dist-packages (from absl-py->jax>=0.2.13->numpyro) (1.15.0)\n"
     ]
    }
   ],
   "source": [
    "!pip install numpyro"
   ]
  },
  {
   "cell_type": "markdown",
   "metadata": {
    "id": "xgOQndnAj5ac"
   },
   "source": [
    "Imports"
   ]
  },
  {
   "cell_type": "code",
   "execution_count": null,
   "metadata": {
    "id": "TqaXG5Fnhd-Q"
   },
   "outputs": [],
   "source": [
    "from decision_strategies import *\n",
    "from gp_model_functions import *\n",
    "from model_fit import *\n",
    "import jax\n",
    "from jax.scipy.linalg import cholesky\n",
    "import jax.numpy as jnp\n",
    "import numpy as np\n",
    "from jax import jit\n",
    "import pandas as pd "
   ]
  },
  {
   "cell_type": "markdown",
   "metadata": {
    "id": "-67anXElj9AQ"
   },
   "source": [
    "## Load data\n",
    "\n",
    "This loads in subjects' data and puts it into arrays of the correct shape. Rewards are also transformed to range from -0.5 to +0.5 rather than 0 to 100.\n",
    "\n",
    "We also calculate the squared distance between all points on the grid. This is useful as all the model-fitting functions require these distances, and we can speed up computation slightly by pre-computing them here."
   ]
  },
  {
   "cell_type": "code",
   "execution_count": null,
   "metadata": {
    "id": "sDu4xaGxh0VX"
   },
   "outputs": [],
   "source": [
    "# Load data\n",
    "data = pd.read_csv(r'https://firebasestorage.googleapis.com/v0/b/onlinetesting-96dd3.appspot.com/o/master.csv?alt=media&token=cccfe509-9542-44b5-a580-b18f07fabfb9')\n",
    "data = data[data['krakenPres'] == 0]\n",
    "\n",
    "# Get important numbers\n",
    "N_SUBS = len(data['ID'].unique())\n",
    "N_BLOCKS = len(data.loc[data['ID'] == 1, 'blocknr'].unique())\n",
    "N_TRIALS = len(data['click'].unique())\n",
    "\n",
    "# Initialise arrays\n",
    "choices = np.zeros((N_SUBS, N_BLOCKS, N_TRIALS))\n",
    "y = np.zeros((N_SUBS, N_BLOCKS, N_TRIALS))\n",
    "\n",
    "GRID_SIZE = 11\n",
    "\n",
    "# Extract and transform data\n",
    "for n_sub, sub in enumerate(data['ID'].unique()):\n",
    "    sub_df = data[data['ID'] == sub]\n",
    "    for n_block, block in enumerate(sub_df['blocknr'].unique()):\n",
    "        sub_block_df = sub_df[sub_df['blocknr'] == block]\n",
    "        choices[n_sub, n_block, :] = np.ravel_multi_index(sub_block_df[['x', 'y']].values.T.astype(int), (GRID_SIZE, GRID_SIZE))\n",
    "        y[n_sub, n_block, :] = (sub_block_df['z'] - 50) / 100\n",
    "        \n",
    "choices = choices.astype(int)\n",
    "\n",
    "# Reshape data\n",
    "choices_flat = np.reshape(choices, (N_SUBS * N_BLOCKS, N_TRIALS))\n",
    "y_flat = np.reshape(y, (N_SUBS * N_BLOCKS, N_TRIALS))\n",
    "\n",
    "# Deal with missing data\n",
    "missing = np.isnan(y_flat)\n",
    "y_flat[np.isnan(y_flat)] = 0\n",
    "\n",
    "# One dimensional column vectors of inputs\n",
    "x1 = np.arange(GRID_SIZE)[:, None]\n",
    "x2 = np.arange(GRID_SIZE)[:, None]\n",
    "\n",
    "# Make cartesian grid\n",
    "X = jnp.dstack(np.meshgrid(x1.squeeze(), x2.squeeze())).reshape(-1, 2)\n",
    "\n",
    "# Get distances\n",
    "distances = jnp.sqrt(square_dist(X, 1))\n"
   ]
  },
  {
   "cell_type": "markdown",
   "metadata": {
    "id": "EuMcdoQbkdKC"
   },
   "source": [
    "## Load grid data\n",
    "\n",
    "In order to simulate data for parameter recovery, we load example grids as a list of arrays."
   ]
  },
  {
   "cell_type": "code",
   "execution_count": null,
   "metadata": {
    "id": "BWbJ01qIirHm"
   },
   "outputs": [],
   "source": [
    "def make_grids(grids, size=12):\n",
    "    out_grids = []\n",
    "    \n",
    "    for g in grids:\n",
    "        new_grid = np.zeros((12, 12))\n",
    "        for k, v in g.items():\n",
    "            for n, i in v.items():\n",
    "                new_grid[int(k), int(n)] = (i - 50) / 100\n",
    "        out_grids.append(new_grid[:size, :size].copy())\n",
    "        \n",
    "    return out_grids\n",
    "\n",
    "import requests\n",
    "grids = requests.get(url=r'https://firebasestorage.googleapis.com/v0/b/onlinetesting-96dd3.appspot.com/o/sample_grid.json?alt=media&token=d6658b9b-b767-48ce-9d31-073812b256f5').json()\n",
    "grid_arrays = make_grids(grids)"
   ]
  },
  {
   "cell_type": "markdown",
   "metadata": {
    "id": "lZoP8QMPkrV_"
   },
   "source": [
    "## Simulate data\n",
    "\n",
    "First we generate simulated parameter values for 100 subjects.\n",
    "\n",
    "These are sampled from uniform distributions with various upper and lower bounds. The bounds are important - values outside of these ranges can make model-fitting difficult as they generate slightly odd behaviour.\n",
    "\n",
    "The $\\beta$ parameter for the Upper Confidence Bound model is allowed to be positive or negative. Negative values are equivalent to the Lower Confidence Bound model with a positive $\\beta$ parameter."
   ]
  },
  {
   "cell_type": "code",
   "execution_count": null,
   "metadata": {
    "id": "m9R_J__dkqsC"
   },
   "outputs": [],
   "source": [
    "rng_key = jax.random.PRNGKey(0)\n",
    "N_SUBS_SIM = 100\n",
    "\n",
    "missing = missing[:N_SUBS_SIM * N_BLOCKS, :]\n",
    "\n",
    "ls_subject = jax.random.uniform(jax.random.PRNGKey(0), shape=(N_SUBS_SIM,), minval=0.3, maxval=5.3)\n",
    "beta_subject = jax.random.uniform(jax.random.PRNGKey(1), shape=(N_SUBS_SIM,), minval=-.8, maxval=.8)\n",
    "tau_subject = jax.random.uniform(jax.random.PRNGKey(2), shape=(N_SUBS_SIM,), minval=0.02, maxval=.22)"
   ]
  },
  {
   "cell_type": "markdown",
   "metadata": {
    "id": "o5q_GZvwlsbF"
   },
   "source": [
    "Then we simulate data using these parameter values."
   ]
  },
  {
   "cell_type": "code",
   "execution_count": null,
   "metadata": {
    "id": "ZQSGD2B2iIDw"
   },
   "outputs": [],
   "source": [
    "sim_choices_ucb, sim_x_coords_ucb, sim_y_ucb = simulate_data_UCB(ls_subject, \n",
    "                                                                 tau_subject, \n",
    "                                                                 beta_subject, \n",
    "                                                                 N_SUBS_SIM, \n",
    "                                                                 N_BLOCKS, \n",
    "                                                                 N_TRIALS, \n",
    "                                                                 grid_arrays[0], \n",
    "                                                                 distances)\n",
    "\n",
    "# sim_choices_poi, sim_x_coords_poi, sim_y_poi = simulate_data_POI(ls_subject, \n",
    "#                                                                  tau_subject, \n",
    "#                                                                  N_SUBS_SIM, \n",
    "#                                                                  N_BLOCKS, \n",
    "#                                                                  N_TRIALS, \n",
    "#                                                                  grid_arrays[0], \n",
    "#                                                                  distances)\n",
    "\n",
    "# sim_choices_pos, sim_x_coords_pos, sim_y_pos = simulate_data_POS(ls_subject, \n",
    "#                                                                  tau_subject, \n",
    "#                                                                  N_SUBS_SIM, \n",
    "#                                                                  N_BLOCKS, \n",
    "#                                                                  N_TRIALS, \n",
    "#                                                                  grid_arrays[0], \n",
    "#                                                                  distances)"
   ]
  },
  {
   "cell_type": "markdown",
   "metadata": {
    "id": "UDIviODil8m8"
   },
   "source": [
    "## Sampling\n",
    "\n",
    "We can then fit the model to this simulated data. To speed things up a bit, we only run 1 chain"
   ]
  },
  {
   "cell_type": "code",
   "execution_count": null,
   "metadata": {
    "colab": {
     "base_uri": "https://localhost:8080/"
    },
    "id": "TgWZKBkhmZXT",
    "outputId": "50849dd4-4c82-4f9f-c5bc-472282dc8524"
   },
   "outputs": [
    {
     "name": "stderr",
     "output_type": "stream",
     "text": [
      "sample: 100%|██████████| 3000/3000 [35:47<00:00,  1.40it/s, 31 steps of size 1.53e-01. acc. prob=0.85]\n"
     ]
    }
   ],
   "source": [
    "model_output = sample(grid_model_UCB, sim_x_coords_ucb, sim_choices_ucb, sim_y_ucb, missing, distances, N_SUBS_SIM, N_BLOCKS, N_TRIALS, n_samples=2000, n_warmup=1000)\n",
    "posterior_samples = model_output.get_samples()"
   ]
  },
  {
   "cell_type": "markdown",
   "metadata": {
    "id": "kElYSaEt4Mza"
   },
   "source": [
    "And then plot the estimated parameter values against those used to generate the data."
   ]
  },
  {
   "cell_type": "code",
   "execution_count": null,
   "metadata": {
    "colab": {
     "base_uri": "https://localhost:8080/",
     "height": 358
    },
    "id": "INeoIqOI4AGM",
    "outputId": "2214128c-1a01-4f29-bac2-8cee04a0156e"
   },
   "outputs": [
    {
     "name": "stderr",
     "output_type": "stream",
     "text": [
      "/usr/local/lib/python3.7/dist-packages/seaborn/_decorators.py:43: FutureWarning: Pass the following variables as keyword args: x, y. From version 0.12, the only valid positional argument will be `data`, and passing other arguments without an explicit keyword will result in an error or misinterpretation.\n",
      "  FutureWarning\n",
      "/usr/local/lib/python3.7/dist-packages/seaborn/_decorators.py:43: FutureWarning: Pass the following variables as keyword args: x, y. From version 0.12, the only valid positional argument will be `data`, and passing other arguments without an explicit keyword will result in an error or misinterpretation.\n",
      "  FutureWarning\n",
      "/usr/local/lib/python3.7/dist-packages/seaborn/_decorators.py:43: FutureWarning: Pass the following variables as keyword args: x, y. From version 0.12, the only valid positional argument will be `data`, and passing other arguments without an explicit keyword will result in an error or misinterpretation.\n",
      "  FutureWarning\n"
     ]
    },
    {
     "data": {
      "image/png": "[encoded data removed]",
      "text/plain": [
       "<Figure size 648x216 with 3 Axes>"
      ]
     },
     "metadata": {
      "needs_background": "light"
     },
     "output_type": "display_data"
    }
   ],
   "source": [
    "from scipy.stats import kendalltau\n",
    "import matplotlib.pyplot as plt\n",
    "import seaborn as sns\n",
    "\n",
    "f, ax = plt.subplots(1, 3, figsize=(9, 3))\n",
    "\n",
    "sns.regplot(ls_subject, posterior_samples['ls_subject_transformed'].mean(axis=0), ax=ax[0])\n",
    "ax[0].set_title(r'$\\lambda$')\n",
    "\n",
    "t, p = kendalltau(ls_subject, posterior_samples['ls_subject_transformed'].mean(axis=0))\n",
    "ax[0].text(0.4, 4.2, r'$K_{\\tau}$' + ' = {0}'.format(np.round(t, 2)))\n",
    "\n",
    "sns.regplot(beta_subject, posterior_samples['beta_subject_transformed'].mean(axis=0), ax=ax[1])\n",
    "ax[1].set_title(r'$\\beta$')\n",
    "\n",
    "t, p = kendalltau(beta_subject, posterior_samples['beta_subject_transformed'].mean(axis=0))\n",
    "ax[1].text(-0.7, 0.55, r'$K_{\\tau}$' + ' = {0}'.format(np.round(t, 2)))\n",
    "ax[1].axvline(0, color='gray', linestyle=':')\n",
    "ax[1].axhline(0, color='gray', linestyle=':')\n",
    "\n",
    "sns.regplot(tau_subject, posterior_samples['tau_subject_transformed'].mean(axis=0), ax=ax[2])\n",
    "ax[2].set_title(r'$\\tau$')\n",
    "\n",
    "t, p = kendalltau(tau_subject, posterior_samples['tau_subject_transformed'].mean(axis=0))\n",
    "ax[2].text(0.03, 0.18, r'$K_{\\tau}$' + ' = {0}'.format(np.round(t, 2)))\n",
    "\n",
    "for i in range(3):\n",
    "    ax[i].set_ylabel('Estimated')\n",
    "    ax[i].set_xlabel('True')\n",
    "    \n",
    "plt.tight_layout()"
   ]
  }
 ],
 "metadata": {
  "accelerator": "GPU",
  "colab": {
   "collapsed_sections": [],
   "name": "GP_model_fitting.ipynb",
   "provenance": []
  },
  "kernelspec": {
   "display_name": "Python 3",
   "language": "python",
   "name": "python3"
  },
  "language_info": {
   "codemirror_mode": {
    "name": "ipython",
    "version": 3
   },
   "file_extension": ".py",
   "mimetype": "text/x-python",
   "name": "python",
   "nbconvert_exporter": "python",
   "pygments_lexer": "ipython3",
   "version": "3.7.5"
  },
  "toc": {
   "base_numbering": 1,
   "nav_menu": {},
   "number_sections": true,
   "sideBar": true,
   "skip_h1_title": false,
   "title_cell": "Table of Contents",
   "title_sidebar": "Contents",
   "toc_cell": true,
   "toc_position": {},
   "toc_section_display": true,
   "toc_window_display": false
  }
 },
 "nbformat": 4,
 "nbformat_minor": 1
}
